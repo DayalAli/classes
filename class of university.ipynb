{
 "cells": [
  {
   "cell_type": "code",
   "execution_count": 10,
   "id": "7235f313-6b85-4563-b747-e4b4c765ab20",
   "metadata": {},
   "outputs": [
    {
     "name": "stdout",
     "output_type": "stream",
     "text": [
      "Name of university is: kiu\n",
      "Start year of university is: 1096\n",
      "Sub-branches of university are: ['Science', 'Arts', 'Engineering']\n",
      "Name of sub-campus is: hunza - Sub Campus\n",
      "Location of sub-campus is: hunza\n",
      "Department name of sub-campus is: Computer Science\n",
      "Name of the campus of sub-campus is: Main Campus\n"
     ]
    }
   ],
   "source": [
    "class Uni:\n",
    "    def __init__(self, name, start_year, sub_branches):\n",
    "        self.name = name\n",
    "        self.start_year = start_year  \n",
    "        self.sub_branches = sub_branches\n",
    "\n",
    "    def show_name(self):\n",
    "        print(\"Name of university is:\", self.name)\n",
    "\n",
    "    def show_start_year(self):\n",
    "        print(\"Start year of university is:\", self.start_year)\n",
    "\n",
    "    def show_sub_branches(self):\n",
    "        print(\"Sub-branches of university are:\", self.sub_branches)\n",
    "\n",
    "\n",
    "class SubCampus(Uni):\n",
    "    def __init__(self, name, location, dep_name, name_of_campus):\n",
    "        super().__init__(name, None, None)  \n",
    "        self.location = location\n",
    "        self.dep_name = dep_name \n",
    "        self.name_of_campus = name_of_campus\n",
    "\n",
    "    def show_name(self):\n",
    "        print(\"Name of sub-campus is:\", self.name)\n",
    "\n",
    "    def show_location(self):\n",
    "        print(\"Location of sub-campus is:\", self.location)\n",
    "\n",
    "    def show_dep_name(self):\n",
    "        print(\"Department name of sub-campus is:\", self.dep_name) \n",
    "\n",
    "    def show_name_of_campus(self):\n",
    "        print(\"Name of the campus of sub-campus is:\", self.name_of_campus)\n",
    "\n",
    "uni1 = Uni(\"kiu\", 1096, [\"Science\", \"Arts\", \"Engineering\"])\n",
    "uni1.show_name()\n",
    "uni1.show_start_year()\n",
    "uni1.show_sub_branches()\n",
    "\n",
    "subcampus1 = SubCampus(\"hunza - Sub Campus\", \"hunza\", \"Computer Science\", \"Main Campus\")\n",
    "subcampus1.show_name()\n",
    "subcampus1.show_location()\n",
    "subcampus1.show_dep_name()\n",
    "subcampus1.show_name_of_campus()\n"
   ]
  },
  {
   "cell_type": "code",
   "execution_count": null,
   "id": "741c98f6-e5e7-425e-963a-a781993acfcb",
   "metadata": {},
   "outputs": [],
   "source": []
  }
 ],
 "metadata": {
  "kernelspec": {
   "display_name": "Python 3 (ipykernel)",
   "language": "python",
   "name": "python3"
  },
  "language_info": {
   "codemirror_mode": {
    "name": "ipython",
    "version": 3
   },
   "file_extension": ".py",
   "mimetype": "text/x-python",
   "name": "python",
   "nbconvert_exporter": "python",
   "pygments_lexer": "ipython3",
   "version": "3.11.7"
  }
 },
 "nbformat": 4,
 "nbformat_minor": 5
}
